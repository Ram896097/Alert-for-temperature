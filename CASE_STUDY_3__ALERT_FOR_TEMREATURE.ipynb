{
  "nbformat": 4,
  "nbformat_minor": 0,
  "metadata": {
    "colab": {
      "provenance": [],
      "authorship_tag": "ABX9TyNC5p/LUPPVr+IYNnGS29Tm",
      "include_colab_link": true
    },
    "kernelspec": {
      "name": "python3",
      "display_name": "Python 3"
    },
    "language_info": {
      "name": "python"
    }
  },
  "cells": [
    {
      "cell_type": "markdown",
      "metadata": {
        "id": "view-in-github",
        "colab_type": "text"
      },
      "source": [
        "<a href=\"https://colab.research.google.com/github/Ram896097/Alert-for-temperature/blob/main/CASE_STUDY_3__ALERT_FOR_TEMREATURE.ipynb\" target=\"_parent\"><img src=\"https://colab.research.google.com/assets/colab-badge.svg\" alt=\"Open In Colab\"/></a>"
      ]
    },
    {
      "cell_type": "code",
      "execution_count": null,
      "metadata": {
        "colab": {
          "base_uri": "https://localhost:8080/"
        },
        "id": "MiqGQRy8hYt7",
        "outputId": "94bddac1-278f-4739-bef1-051dcc0e6ece"
      },
      "outputs": [
        {
          "output_type": "stream",
          "name": "stdout",
          "text": [
            "Press 'q' and Enter to stop monitoring...\n",
            "\n",
            "Temperature monitoring started:\n",
            " Current temperature: 33.86C \n",
            "Temperature is in normal range \n",
            "Press 'q' to quit or Enter to continue: q\n",
            " Monitoring stopped.\n"
          ]
        }
      ],
      "source": [
        "#CASE STUDY 3\n",
        "import random\n",
        "import time\n",
        "def monitor_temp(lower_range,upper_range,check_interval=2):\n",
        "  print(\"Press 'q' and Enter to stop monitoring...\\n\")\n",
        "  print(\"Temperature monitoring started:\")\n",
        "  while True:\n",
        "    temperature = random.uniform(lower_range-10,upper_range+10)\n",
        "    print(f\" Current temperature: {temperature:.2f}C \")\n",
        "\n",
        "    if temperature < lower_range:\n",
        "      print(\"Alert : Temperature is too Low \")\n",
        "    elif temperature > upper_range:\n",
        "      print(\"Alert : Temperature is too High \")\n",
        "    else:\n",
        "      print(\"Temperature is in normal range \")\n",
        "    if input(\"Press 'q' to quit or Enter to continue: \").lower() == 'q':\n",
        "            print(\" Monitoring stopped.\")\n",
        "            break\n",
        "    time.sleep(check_interval)\n",
        "monitor_temp(lower_range=25,upper_range=35)\n",
        "\n"
      ]
    },
    {
      "cell_type": "code",
      "source": [],
      "metadata": {
        "id": "8hsx1X5vk-Yi"
      },
      "execution_count": null,
      "outputs": []
    }
  ]
}